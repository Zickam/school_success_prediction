{
 "cells": [
  {
   "cell_type": "code",
   "execution_count": 1,
   "id": "e52e6fe3-32cd-4db5-a2f5-b7719de51351",
   "metadata": {},
   "outputs": [],
   "source": [
    "import pandas as pd\n",
    "import numpy as np"
   ]
  },
  {
   "cell_type": "code",
   "execution_count": null,
   "id": "a2e2e1fb-e0eb-4770-8e57-fd92e44e9d0d",
   "metadata": {},
   "outputs": [],
   "source": [
    "df = pd.read_excel(\"Сводная_ведомость_учета_успеваемости_класса.xlsx\", header=2)\n",
    "df.head()"
   ]
  }
 ],
 "metadata": {
  "kernelspec": {
   "display_name": "Python [conda env:ml-env]",
   "language": "python",
   "name": "conda-env-ml-env-py"
  },
  "language_info": {
   "codemirror_mode": {
    "name": "ipython",
    "version": 3
   },
   "file_extension": ".py",
   "mimetype": "text/x-python",
   "name": "python",
   "nbconvert_exporter": "python",
   "pygments_lexer": "ipython3",
   "version": "3.12.9"
  }
 },
 "nbformat": 4,
 "nbformat_minor": 5
}
